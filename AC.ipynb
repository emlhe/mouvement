{
 "cells": [
  {
   "cell_type": "code",
   "execution_count": 1,
   "id": "f61625aa-c2a2-423c-85d2-5e38a7ded98e",
   "metadata": {},
   "outputs": [],
   "source": [
    "import matplotlib.pyplot as plt\n",
    "import json\n",
    "import pandas as pd\n",
    "import numpy as np"
   ]
  },
  {
   "cell_type": "code",
   "execution_count": 2,
   "id": "eea2a356-0325-469c-9b8d-7864e08b9f5c",
   "metadata": {},
   "outputs": [],
   "source": [
    "path_json_r = \"./Data/clean_records/1/1RW298.json\"\n",
    "path_json_l = \"./Data/clean_records/1/1LW152.json\"\n",
    "path_json_t = \"./Data/clean_records/2/2TR151.json\"\n",
    "path_excel = \"Data/Protocole standardisé_Annotations_BIN/Angers/04.01.01/04.01.01_MS_01.xlsx\""
   ]
  },
  {
   "cell_type": "code",
   "execution_count": 42,
   "id": "87e6a4c1-6643-4c07-8a40-007d894641f8",
   "metadata": {},
   "outputs": [
    {
     "name": "stdout",
     "output_type": "stream",
     "text": [
      "<class 'pandas.core.frame.DataFrame'>\n",
      "RangeIndex: 32038 entries, 0 to 32037\n",
      "Data columns (total 7 columns):\n",
      " #   Column     Non-Null Count  Dtype  \n",
      "---  ------     --------------  -----  \n",
      " 0   accel_x    32038 non-null  float64\n",
      " 1   accel_y    32038 non-null  float64\n",
      " 2   accel_z    32038 non-null  float64\n",
      " 3   gyro_x     32038 non-null  float64\n",
      " 4   gyro_y     32038 non-null  float64\n",
      " 5   gyro_z     32038 non-null  float64\n",
      " 6   timestamp  32038 non-null  float64\n",
      "dtypes: float64(7)\n",
      "memory usage: 1.7 MB\n"
     ]
    }
   ],
   "source": [
    "df_r = pd.read_json(path_json_r)\n",
    "df_l = pd.read_json(path_json_l)\n",
    "df_t = pd.read_json(path_json_t)\n",
    "\n",
    "df_r.info()"
   ]
  },
  {
   "cell_type": "code",
   "execution_count": 4,
   "id": "37f8472f-dd41-448f-8995-05e1c90dc6c9",
   "metadata": {},
   "outputs": [
    {
     "data": {
      "text/html": [
       "<div>\n",
       "<style scoped>\n",
       "    .dataframe tbody tr th:only-of-type {\n",
       "        vertical-align: middle;\n",
       "    }\n",
       "\n",
       "    .dataframe tbody tr th {\n",
       "        vertical-align: top;\n",
       "    }\n",
       "\n",
       "    .dataframe thead th {\n",
       "        text-align: right;\n",
       "    }\n",
       "</style>\n",
       "<table border=\"1\" class=\"dataframe\">\n",
       "  <thead>\n",
       "    <tr style=\"text-align: right;\">\n",
       "      <th></th>\n",
       "      <th>accel_x</th>\n",
       "      <th>accel_y</th>\n",
       "      <th>accel_z</th>\n",
       "      <th>gyro_x</th>\n",
       "      <th>gyro_y</th>\n",
       "      <th>gyro_z</th>\n",
       "      <th>timestamp</th>\n",
       "    </tr>\n",
       "  </thead>\n",
       "  <tbody>\n",
       "    <tr>\n",
       "      <th>0</th>\n",
       "      <td>0.010952</td>\n",
       "      <td>-0.208460</td>\n",
       "      <td>0.961739</td>\n",
       "      <td>2.581739</td>\n",
       "      <td>-4.261108</td>\n",
       "      <td>-0.463829</td>\n",
       "      <td>0.000000</td>\n",
       "    </tr>\n",
       "    <tr>\n",
       "      <th>1</th>\n",
       "      <td>0.005296</td>\n",
       "      <td>-0.220925</td>\n",
       "      <td>0.967791</td>\n",
       "      <td>2.375446</td>\n",
       "      <td>-2.133212</td>\n",
       "      <td>-1.021291</td>\n",
       "      <td>0.007812</td>\n",
       "    </tr>\n",
       "    <tr>\n",
       "      <th>2</th>\n",
       "      <td>-0.005525</td>\n",
       "      <td>-0.223369</td>\n",
       "      <td>0.970938</td>\n",
       "      <td>-2.128613</td>\n",
       "      <td>-0.856474</td>\n",
       "      <td>0.511730</td>\n",
       "      <td>0.015625</td>\n",
       "    </tr>\n",
       "    <tr>\n",
       "      <th>3</th>\n",
       "      <td>-0.009951</td>\n",
       "      <td>-0.224836</td>\n",
       "      <td>0.982558</td>\n",
       "      <td>-3.503898</td>\n",
       "      <td>2.122580</td>\n",
       "      <td>3.333883</td>\n",
       "      <td>0.023438</td>\n",
       "    </tr>\n",
       "    <tr>\n",
       "      <th>4</th>\n",
       "      <td>-0.024214</td>\n",
       "      <td>-0.223858</td>\n",
       "      <td>0.982558</td>\n",
       "      <td>-2.334906</td>\n",
       "      <td>2.512695</td>\n",
       "      <td>3.368724</td>\n",
       "      <td>0.031250</td>\n",
       "    </tr>\n",
       "    <tr>\n",
       "      <th>...</th>\n",
       "      <td>...</td>\n",
       "      <td>...</td>\n",
       "      <td>...</td>\n",
       "      <td>...</td>\n",
       "      <td>...</td>\n",
       "      <td>...</td>\n",
       "      <td>...</td>\n",
       "    </tr>\n",
       "    <tr>\n",
       "      <th>124</th>\n",
       "      <td>-0.030607</td>\n",
       "      <td>-0.224347</td>\n",
       "      <td>0.998536</td>\n",
       "      <td>2.272299</td>\n",
       "      <td>1.945256</td>\n",
       "      <td>-1.474230</td>\n",
       "      <td>0.968750</td>\n",
       "    </tr>\n",
       "    <tr>\n",
       "      <th>125</th>\n",
       "      <td>-0.031591</td>\n",
       "      <td>-0.230946</td>\n",
       "      <td>0.979169</td>\n",
       "      <td>1.515893</td>\n",
       "      <td>-0.785544</td>\n",
       "      <td>-1.369705</td>\n",
       "      <td>0.976562</td>\n",
       "    </tr>\n",
       "    <tr>\n",
       "      <th>126</th>\n",
       "      <td>-0.018804</td>\n",
       "      <td>-0.231190</td>\n",
       "      <td>0.963434</td>\n",
       "      <td>0.656339</td>\n",
       "      <td>-3.268090</td>\n",
       "      <td>-1.718119</td>\n",
       "      <td>0.984375</td>\n",
       "    </tr>\n",
       "    <tr>\n",
       "      <th>127</th>\n",
       "      <td>-0.027411</td>\n",
       "      <td>-0.230701</td>\n",
       "      <td>0.963192</td>\n",
       "      <td>0.243754</td>\n",
       "      <td>-1.494843</td>\n",
       "      <td>-1.648437</td>\n",
       "      <td>0.992188</td>\n",
       "    </tr>\n",
       "    <tr>\n",
       "      <th>128</th>\n",
       "      <td>-0.025689</td>\n",
       "      <td>-0.230701</td>\n",
       "      <td>0.963676</td>\n",
       "      <td>-0.065685</td>\n",
       "      <td>-1.388448</td>\n",
       "      <td>-1.543912</td>\n",
       "      <td>1.000000</td>\n",
       "    </tr>\n",
       "  </tbody>\n",
       "</table>\n",
       "<p>129 rows × 7 columns</p>\n",
       "</div>"
      ],
      "text/plain": [
       "      accel_x   accel_y   accel_z    gyro_x    gyro_y    gyro_z  timestamp\n",
       "0    0.010952 -0.208460  0.961739  2.581739 -4.261108 -0.463829   0.000000\n",
       "1    0.005296 -0.220925  0.967791  2.375446 -2.133212 -1.021291   0.007812\n",
       "2   -0.005525 -0.223369  0.970938 -2.128613 -0.856474  0.511730   0.015625\n",
       "3   -0.009951 -0.224836  0.982558 -3.503898  2.122580  3.333883   0.023438\n",
       "4   -0.024214 -0.223858  0.982558 -2.334906  2.512695  3.368724   0.031250\n",
       "..        ...       ...       ...       ...       ...       ...        ...\n",
       "124 -0.030607 -0.224347  0.998536  2.272299  1.945256 -1.474230   0.968750\n",
       "125 -0.031591 -0.230946  0.979169  1.515893 -0.785544 -1.369705   0.976562\n",
       "126 -0.018804 -0.231190  0.963434  0.656339 -3.268090 -1.718119   0.984375\n",
       "127 -0.027411 -0.230701  0.963192  0.243754 -1.494843 -1.648437   0.992188\n",
       "128 -0.025689 -0.230701  0.963676 -0.065685 -1.388448 -1.543912   1.000000\n",
       "\n",
       "[129 rows x 7 columns]"
      ]
     },
     "execution_count": 4,
     "metadata": {},
     "output_type": "execute_result"
    }
   ],
   "source": [
    "df_r[(df_r[\"timestamp\"] >= 0) & (df_r[\"timestamp\"] <= 1)]"
   ]
  },
  {
   "cell_type": "code",
   "execution_count": 5,
   "id": "74e16d5d-3233-40d7-827b-12ba6f17946b",
   "metadata": {},
   "outputs": [],
   "source": [
    "df_r = df_r[[\"accel_x\", \"accel_y\", \"accel_z\", \"timestamp\"]]\n",
    "df_l = df_l[[\"accel_x\", \"accel_y\", \"accel_z\", \"timestamp\"]]\n",
    "df_t = df_t[[\"accel_x\", \"accel_y\", \"accel_z\", \"timestamp\"]]"
   ]
  },
  {
   "cell_type": "markdown",
   "id": "9e5c3ca5-fa96-4796-81c7-c1f627dad3e6",
   "metadata": {},
   "source": [
    "## Coefficients"
   ]
  },
  {
   "cell_type": "code",
   "execution_count": 6,
   "id": "1e3bae47-3234-4dc9-a4c2-d3c83c0a81e3",
   "metadata": {},
   "outputs": [],
   "source": [
    "frequence = 128\n",
    "COEFF = 0.001664\n",
    "threshold = 0.5"
   ]
  },
  {
   "cell_type": "markdown",
   "id": "42e05241-67e2-413a-bc7b-a2801d9d560c",
   "metadata": {},
   "source": [
    "# Filtre"
   ]
  },
  {
   "cell_type": "code",
   "execution_count": 7,
   "id": "0093e46d-4cb6-4b85-8a56-5ccbcf7d0ba9",
   "metadata": {},
   "outputs": [],
   "source": [
    "from scipy.signal import butter, ellip\n",
    "from scipy import signal\n",
    "\n",
    "N = 6\n",
    "rp = 1\n",
    "rs = 50\n",
    "\n",
    "Fn = frequence/2;                                                  \n",
    "Wp = np.divide([0.25, 2.5],Fn)\n",
    "\n",
    "sos = ellip(N, rp, rs, Wp, btype='bandpass', analog=False, output='sos', fs=None)\n"
   ]
  },
  {
   "cell_type": "markdown",
   "id": "ecf6cc9a-620c-4776-9086-1141d8a505e3",
   "metadata": {},
   "source": [
    "## Capteur droit"
   ]
  },
  {
   "cell_type": "code",
   "execution_count": 8,
   "id": "9ef66c8f-af0f-4a6c-8e0e-f25bb86038a9",
   "metadata": {},
   "outputs": [],
   "source": [
    "filtd_rx = signal.sosfilt(sos, df_r[\"accel_x\"])\n",
    "filtd_ry = signal.sosfilt(sos, df_r[\"accel_y\"])\n",
    "filtd_rz = signal.sosfilt(sos, df_r[\"accel_z\"])"
   ]
  },
  {
   "cell_type": "code",
   "execution_count": 9,
   "id": "4093fe01-4edf-4b7a-b25e-72d5b24ebf58",
   "metadata": {},
   "outputs": [],
   "source": [
    "df_filtrd_r = pd.DataFrame(list(zip(filtd_rx, filtd_ry, filtd_rz, df_r[\"timestamp\"] )), columns =['accel_x', 'accel_y', 'accel_z', \"timestamp\" ])"
   ]
  },
  {
   "cell_type": "markdown",
   "id": "f46e1b50-1874-4529-9e9b-1d6e4246e2c6",
   "metadata": {},
   "source": [
    "## Capteur gauche "
   ]
  },
  {
   "cell_type": "code",
   "execution_count": 10,
   "id": "a0f18415-3630-4f01-b1cc-6432ce380343",
   "metadata": {},
   "outputs": [],
   "source": [
    "filtd_lx = signal.sosfilt(sos, df_l[\"accel_x\"])\n",
    "filtd_ly = signal.sosfilt(sos, df_l[\"accel_y\"])\n",
    "filtd_lz = signal.sosfilt(sos, df_l[\"accel_z\"])"
   ]
  },
  {
   "cell_type": "code",
   "execution_count": 11,
   "id": "6b34f253-1974-4ea5-bb12-75482dde9790",
   "metadata": {},
   "outputs": [],
   "source": [
    "df_filtrd_l = pd.DataFrame(list(zip(filtd_lx, filtd_ly, filtd_lz, df_r[\"timestamp\"] )), columns =['accel_x', 'accel_y', 'accel_z', \"timestamp\" ])"
   ]
  },
  {
   "cell_type": "markdown",
   "id": "c87cb4ca-8d34-44c8-a55a-0ccdb2a31378",
   "metadata": {},
   "source": [
    "## Capteur Thorax"
   ]
  },
  {
   "cell_type": "code",
   "execution_count": 12,
   "id": "4037f4f7-e58e-4fb6-957b-201b80a631a0",
   "metadata": {},
   "outputs": [],
   "source": [
    "filtd_tx = signal.sosfilt(sos, df_t[\"accel_x\"])\n",
    "filtd_ty = signal.sosfilt(sos, df_t[\"accel_y\"])\n",
    "filtd_tz = signal.sosfilt(sos, df_t[\"accel_z\"])"
   ]
  },
  {
   "cell_type": "code",
   "execution_count": 13,
   "id": "ea17eadf-4622-446a-9dc8-5c5d2e9a447d",
   "metadata": {},
   "outputs": [],
   "source": [
    "df_filtrd_t = pd.DataFrame(list(zip(filtd_tx, filtd_ty, filtd_tz, df_r[\"timestamp\"] )), columns =['accel_x', 'accel_y', 'accel_z', \"timestamp\" ])"
   ]
  },
  {
   "cell_type": "code",
   "execution_count": 14,
   "id": "5c317e21-f936-4242-9e68-3e629ee8c606",
   "metadata": {},
   "outputs": [
    {
     "data": {
      "image/png": "[encoded data removed]",
      "text/plain": [
       "<Figure size 640x480 with 2 Axes>"
      ]
     },
     "metadata": {},
     "output_type": "display_data"
    }
   ],
   "source": [
    "plt.subplot(2,1,1)\n",
    "plt.plot(df_t[\"accel_x\"])\n",
    "plt.subplot(2,1,2)\n",
    "plt.plot(filtd_rx)\n",
    "plt.show()"
   ]
  },
  {
   "cell_type": "markdown",
   "id": "717f7ec7-460f-418c-8432-dbe613f17593",
   "metadata": {},
   "source": [
    "## Activity Count"
   ]
  },
  {
   "cell_type": "code",
   "execution_count": 15,
   "id": "c4e2207a-bda1-4d6d-80eb-ea4ed6aaa77d",
   "metadata": {},
   "outputs": [],
   "source": [
    "acs_r = np.zeros(int(len(df_filtrd_r)/frequence))\n",
    "acs_l = np.zeros(int(len(df_filtrd_l)/frequence))\n",
    "acs_t = np.zeros(int(len(df_filtrd_t)/frequence))"
   ]
  },
  {
   "cell_type": "code",
   "execution_count": 16,
   "id": "d1d868aa-d607-4da6-9f24-084205e61cbd",
   "metadata": {},
   "outputs": [
    {
     "name": "stdout",
     "output_type": "stream",
     "text": [
      "(250,)\n",
      "(250,)\n",
      "(250,)\n"
     ]
    }
   ],
   "source": [
    "print(acs_r.shape)\n",
    "print(acs_l.shape)\n",
    "print(acs_t.shape)"
   ]
  },
  {
   "cell_type": "code",
   "execution_count": 17,
   "id": "00b07dcd-1ca1-4220-b1e3-7e9553f7becc",
   "metadata": {},
   "outputs": [
    {
     "name": "stdout",
     "output_type": "stream",
     "text": [
      "73.12759479885837\n"
     ]
    }
   ],
   "source": [
    "for i in range(acs_r.shape[0]):\n",
    "    r = np.abs(df_filtrd_r[(df_filtrd_r[\"timestamp\"] > i) & (df_filtrd_r[\"timestamp\"] < i+1)].mean())/COEFF\n",
    "    acs_r[i] = np.sqrt(np.square(r[[\"accel_x\", \"accel_y\", \"accel_z\"]]).sum(axis=0))\n",
    "\n",
    "#print(acs_r)\n",
    "print(acs_r.mean())"
   ]
  },
  {
   "cell_type": "code",
   "execution_count": 18,
   "id": "8d770086-26de-4796-aa61-aa55af46a48b",
   "metadata": {},
   "outputs": [
    {
     "name": "stdout",
     "output_type": "stream",
     "text": [
      "55.46318967411888\n"
     ]
    }
   ],
   "source": [
    "for i in range(acs_l.shape[0]):\n",
    "    l = np.abs(df_filtrd_l[(df_filtrd_l[\"timestamp\"] > i) & (df_filtrd_l[\"timestamp\"] < i+1)].mean())/COEFF\n",
    "    acs_l[i] = np.sqrt(np.square(l[[\"accel_x\", \"accel_y\", \"accel_z\"]]).sum(axis=0))\n",
    "\n",
    "#print(acs_l)\n",
    "print(acs_l.mean())"
   ]
  },
  {
   "cell_type": "code",
   "execution_count": 19,
   "id": "058e3bc9-85e2-4c4f-bca8-281113262bab",
   "metadata": {},
   "outputs": [
    {
     "name": "stdout",
     "output_type": "stream",
     "text": [
      "23.248199450451445\n"
     ]
    }
   ],
   "source": [
    "for i in range(acs_t.shape[0]):\n",
    "    t = np.abs(df_filtrd_t[(df_filtrd_t[\"timestamp\"] > i) & (df_filtrd_t[\"timestamp\"] < i+1)].mean())/COEFF\n",
    "    acs_t[i] = np.sqrt(np.square(t[[\"accel_x\", \"accel_y\", \"accel_z\"]]).sum(axis=0))\n",
    "\n",
    "#print(acs_t)\n",
    "print(acs_t.mean())"
   ]
  },
  {
   "cell_type": "code",
   "execution_count": 20,
   "id": "9f821abb-111b-42b0-b498-a39d657943d8",
   "metadata": {},
   "outputs": [],
   "source": [
    "time_r = np.linspace(0, len(acs_r), len(acs_r))\n",
    "time_l = np.linspace(0, len(acs_l), len(acs_l))\n",
    "time_t = np.linspace(0, len(acs_t), len(acs_t))"
   ]
  },
  {
   "cell_type": "code",
   "execution_count": 21,
   "id": "0d8e9ce7-fae1-4509-a478-b9407d43addb",
   "metadata": {},
   "outputs": [
    {
     "data": {
      "image/png": "[encoded data removed]",
      "text/plain": [
       "<Figure size 640x480 with 3 Axes>"
      ]
     },
     "metadata": {},
     "output_type": "display_data"
    }
   ],
   "source": [
    "plt.subplot(3,1,1)\n",
    "plt.plot(time_r, acs_r)\n",
    "plt.subplot(3,1,2)\n",
    "plt.plot(time_l, acs_l)\n",
    "plt.subplot(3,1,3)\n",
    "plt.plot(time_t, acs_t)\n",
    "plt.show()\n"
   ]
  },
  {
   "cell_type": "code",
   "execution_count": 22,
   "id": "4c36a793-88f4-414e-8b26-3e3a39d03eb5",
   "metadata": {},
   "outputs": [
    {
     "name": "stdout",
     "output_type": "stream",
     "text": [
      "start :  0\n",
      "end :  1\n",
      "moyennes : \n",
      "accel_x      0.000801\n",
      "accel_y      0.005290\n",
      "accel_z      0.024970\n",
      "timestamp    0.500000\n",
      "dtype: float64\n",
      "accel_x        0.481487\n",
      "accel_y        3.179051\n",
      "accel_z       15.006010\n",
      "timestamp    300.480769\n",
      "dtype: float64\n",
      "AC :  15.346613041256388\n",
      "###############\n",
      "start :  1\n",
      "end :  2\n",
      "moyennes : \n",
      "accel_x      0.002443\n",
      "accel_y      0.003958\n",
      "accel_z      0.017944\n",
      "timestamp    1.500000\n",
      "dtype: float64\n",
      "accel_x        1.468278\n",
      "accel_y        2.378531\n",
      "accel_z       10.783433\n",
      "timestamp    901.442308\n",
      "dtype: float64\n",
      "AC :  11.139823950265393\n",
      "###############\n",
      "15.346613041256388\n",
      "11.139823950265393\n"
     ]
    }
   ],
   "source": [
    "for i in range(2):\n",
    "    print(\"start : \" , i)\n",
    "    print(\"end : \", i+1)\n",
    "    r = np.abs((df_filtrd_r[(df_filtrd_r[\"timestamp\"] > i) & (df_filtrd_r[\"timestamp\"] < i+1)]).mean())\n",
    "    print(\"moyennes : \")\n",
    "    print(r)\n",
    "    \n",
    "    r = r /COEFF\n",
    "\n",
    "    print(r) \n",
    "    \n",
    "    acs_r[i] = np.sqrt(np.square(r[[\"accel_x\", \"accel_y\", \"accel_z\"]]).sum(axis=0))\n",
    "    \n",
    "    print(\"AC : \", acs_r[i])\n",
    "    \n",
    "    print(\"###############\")\n",
    "\n",
    "print(acs_r[0])\n",
    "print(acs_r[1])"
   ]
  },
  {
   "cell_type": "markdown",
   "id": "490e0b60-1851-4852-87bd-8c700b5ca7f6",
   "metadata": {},
   "source": [
    "# Données annotées"
   ]
  },
  {
   "cell_type": "code",
   "execution_count": 23,
   "id": "d0ecdf45-c284-46dc-bad2-857dd285e3b8",
   "metadata": {},
   "outputs": [
    {
     "data": {
      "text/html": [
       "<div>\n",
       "<style scoped>\n",
       "    .dataframe tbody tr th:only-of-type {\n",
       "        vertical-align: middle;\n",
       "    }\n",
       "\n",
       "    .dataframe tbody tr th {\n",
       "        vertical-align: top;\n",
       "    }\n",
       "\n",
       "    .dataframe thead th {\n",
       "        text-align: right;\n",
       "    }\n",
       "</style>\n",
       "<table border=\"1\" class=\"dataframe\">\n",
       "  <thead>\n",
       "    <tr style=\"text-align: right;\">\n",
       "      <th></th>\n",
       "      <th>Observation id</th>\n",
       "      <th>Observation date</th>\n",
       "      <th>Description</th>\n",
       "      <th>Media file</th>\n",
       "      <th>Total length</th>\n",
       "      <th>FPS</th>\n",
       "      <th>Subject</th>\n",
       "      <th>Behavior</th>\n",
       "      <th>Behavioral category</th>\n",
       "      <th>Modifiers</th>\n",
       "      <th>Behavior type</th>\n",
       "      <th>Start (s)</th>\n",
       "      <th>Stop (s)</th>\n",
       "      <th>Duration (s)</th>\n",
       "      <th>Comment start</th>\n",
       "      <th>Comment stop</th>\n",
       "    </tr>\n",
       "  </thead>\n",
       "  <tbody>\n",
       "    <tr>\n",
       "      <th>0</th>\n",
       "      <td>04.01.01_Boha</td>\n",
       "      <td>2022-06-19 18:38:02</td>\n",
       "      <td>NaN</td>\n",
       "      <td>F:/mémoire/annotation vidéo/actimètrie_validit...</td>\n",
       "      <td>1625.28</td>\n",
       "      <td>25</td>\n",
       "      <td>04.01.01</td>\n",
       "      <td>Start_RW</td>\n",
       "      <td>NaN</td>\n",
       "      <td>NaN</td>\n",
       "      <td>POINT</td>\n",
       "      <td>10.584</td>\n",
       "      <td>10.584</td>\n",
       "      <td>NaN</td>\n",
       "      <td>NaN</td>\n",
       "      <td>NaN</td>\n",
       "    </tr>\n",
       "    <tr>\n",
       "      <th>1</th>\n",
       "      <td>04.01.01_Boha</td>\n",
       "      <td>2022-06-19 18:38:02</td>\n",
       "      <td>NaN</td>\n",
       "      <td>F:/mémoire/annotation vidéo/actimètrie_validit...</td>\n",
       "      <td>1625.28</td>\n",
       "      <td>25</td>\n",
       "      <td>04.01.01</td>\n",
       "      <td>RW non noté</td>\n",
       "      <td>NaN</td>\n",
       "      <td>NaN</td>\n",
       "      <td>STATE</td>\n",
       "      <td>16.672</td>\n",
       "      <td>22.182</td>\n",
       "      <td>5.510</td>\n",
       "      <td>NaN</td>\n",
       "      <td>NaN</td>\n",
       "    </tr>\n",
       "    <tr>\n",
       "      <th>2</th>\n",
       "      <td>04.01.01_Boha</td>\n",
       "      <td>2022-06-19 18:38:02</td>\n",
       "      <td>NaN</td>\n",
       "      <td>F:/mémoire/annotation vidéo/actimètrie_validit...</td>\n",
       "      <td>1625.28</td>\n",
       "      <td>25</td>\n",
       "      <td>04.01.01</td>\n",
       "      <td>RW sédentaire</td>\n",
       "      <td>NaN</td>\n",
       "      <td>NaN</td>\n",
       "      <td>STATE</td>\n",
       "      <td>22.182</td>\n",
       "      <td>28.681</td>\n",
       "      <td>6.499</td>\n",
       "      <td>NaN</td>\n",
       "      <td>NaN</td>\n",
       "    </tr>\n",
       "    <tr>\n",
       "      <th>3</th>\n",
       "      <td>04.01.01_Boha</td>\n",
       "      <td>2022-06-19 18:38:02</td>\n",
       "      <td>NaN</td>\n",
       "      <td>F:/mémoire/annotation vidéo/actimètrie_validit...</td>\n",
       "      <td>1625.28</td>\n",
       "      <td>25</td>\n",
       "      <td>04.01.01</td>\n",
       "      <td>RW mouv IV FA</td>\n",
       "      <td>NaN</td>\n",
       "      <td>NaN</td>\n",
       "      <td>STATE</td>\n",
       "      <td>28.681</td>\n",
       "      <td>32.685</td>\n",
       "      <td>4.004</td>\n",
       "      <td>NaN</td>\n",
       "      <td>NaN</td>\n",
       "    </tr>\n",
       "    <tr>\n",
       "      <th>4</th>\n",
       "      <td>04.01.01_Boha</td>\n",
       "      <td>2022-06-19 18:38:02</td>\n",
       "      <td>NaN</td>\n",
       "      <td>F:/mémoire/annotation vidéo/actimètrie_validit...</td>\n",
       "      <td>1625.28</td>\n",
       "      <td>25</td>\n",
       "      <td>04.01.01</td>\n",
       "      <td>RW mouv IV GA</td>\n",
       "      <td>NaN</td>\n",
       "      <td>NaN</td>\n",
       "      <td>STATE</td>\n",
       "      <td>32.685</td>\n",
       "      <td>46.253</td>\n",
       "      <td>13.568</td>\n",
       "      <td>NaN</td>\n",
       "      <td>NaN</td>\n",
       "    </tr>\n",
       "    <tr>\n",
       "      <th>...</th>\n",
       "      <td>...</td>\n",
       "      <td>...</td>\n",
       "      <td>...</td>\n",
       "      <td>...</td>\n",
       "      <td>...</td>\n",
       "      <td>...</td>\n",
       "      <td>...</td>\n",
       "      <td>...</td>\n",
       "      <td>...</td>\n",
       "      <td>...</td>\n",
       "      <td>...</td>\n",
       "      <td>...</td>\n",
       "      <td>...</td>\n",
       "      <td>...</td>\n",
       "      <td>...</td>\n",
       "      <td>...</td>\n",
       "    </tr>\n",
       "    <tr>\n",
       "      <th>173</th>\n",
       "      <td>04.01.01_Boha</td>\n",
       "      <td>2022-06-19 18:38:02</td>\n",
       "      <td>NaN</td>\n",
       "      <td>F:/mémoire/annotation vidéo/actimètrie_validit...</td>\n",
       "      <td>1625.28</td>\n",
       "      <td>25</td>\n",
       "      <td>04.01.01</td>\n",
       "      <td>RW mouv IV GA</td>\n",
       "      <td>NaN</td>\n",
       "      <td>NaN</td>\n",
       "      <td>STATE</td>\n",
       "      <td>1573.948</td>\n",
       "      <td>1589.904</td>\n",
       "      <td>15.956</td>\n",
       "      <td>NaN</td>\n",
       "      <td>NaN</td>\n",
       "    </tr>\n",
       "    <tr>\n",
       "      <th>174</th>\n",
       "      <td>04.01.01_Boha</td>\n",
       "      <td>2022-06-19 18:38:02</td>\n",
       "      <td>NaN</td>\n",
       "      <td>F:/mémoire/annotation vidéo/actimètrie_validit...</td>\n",
       "      <td>1625.28</td>\n",
       "      <td>25</td>\n",
       "      <td>04.01.01</td>\n",
       "      <td>RW mouv V GA</td>\n",
       "      <td>NaN</td>\n",
       "      <td>NaN</td>\n",
       "      <td>STATE</td>\n",
       "      <td>1589.904</td>\n",
       "      <td>1600.151</td>\n",
       "      <td>10.247</td>\n",
       "      <td>NaN</td>\n",
       "      <td>NaN</td>\n",
       "    </tr>\n",
       "    <tr>\n",
       "      <th>175</th>\n",
       "      <td>04.01.01_Boha</td>\n",
       "      <td>2022-06-19 18:38:02</td>\n",
       "      <td>NaN</td>\n",
       "      <td>F:/mémoire/annotation vidéo/actimètrie_validit...</td>\n",
       "      <td>1625.28</td>\n",
       "      <td>25</td>\n",
       "      <td>04.01.01</td>\n",
       "      <td>RW mouv IV GA</td>\n",
       "      <td>NaN</td>\n",
       "      <td>NaN</td>\n",
       "      <td>STATE</td>\n",
       "      <td>1600.151</td>\n",
       "      <td>1618.721</td>\n",
       "      <td>18.570</td>\n",
       "      <td>NaN</td>\n",
       "      <td>NaN</td>\n",
       "    </tr>\n",
       "    <tr>\n",
       "      <th>176</th>\n",
       "      <td>04.01.01_Boha</td>\n",
       "      <td>2022-06-19 18:38:02</td>\n",
       "      <td>NaN</td>\n",
       "      <td>F:/mémoire/annotation vidéo/actimètrie_validit...</td>\n",
       "      <td>1625.28</td>\n",
       "      <td>25</td>\n",
       "      <td>04.01.01</td>\n",
       "      <td>LW mouv IV FA</td>\n",
       "      <td>NaN</td>\n",
       "      <td>NaN</td>\n",
       "      <td>STATE</td>\n",
       "      <td>1618.721</td>\n",
       "      <td>1624.718</td>\n",
       "      <td>5.997</td>\n",
       "      <td>NaN</td>\n",
       "      <td>NaN</td>\n",
       "    </tr>\n",
       "    <tr>\n",
       "      <th>177</th>\n",
       "      <td>04.01.01_Boha</td>\n",
       "      <td>2022-06-19 18:38:02</td>\n",
       "      <td>NaN</td>\n",
       "      <td>F:/mémoire/annotation vidéo/actimètrie_validit...</td>\n",
       "      <td>1625.28</td>\n",
       "      <td>25</td>\n",
       "      <td>04.01.01</td>\n",
       "      <td>RW mouv IV FA</td>\n",
       "      <td>NaN</td>\n",
       "      <td>NaN</td>\n",
       "      <td>STATE</td>\n",
       "      <td>1618.721</td>\n",
       "      <td>1624.718</td>\n",
       "      <td>5.997</td>\n",
       "      <td>NaN</td>\n",
       "      <td>NaN</td>\n",
       "    </tr>\n",
       "  </tbody>\n",
       "</table>\n",
       "<p>178 rows × 16 columns</p>\n",
       "</div>"
      ],
      "text/plain": [
       "    Observation id     Observation date  Description  \\\n",
       "0    04.01.01_Boha  2022-06-19 18:38:02          NaN   \n",
       "1    04.01.01_Boha  2022-06-19 18:38:02          NaN   \n",
       "2    04.01.01_Boha  2022-06-19 18:38:02          NaN   \n",
       "3    04.01.01_Boha  2022-06-19 18:38:02          NaN   \n",
       "4    04.01.01_Boha  2022-06-19 18:38:02          NaN   \n",
       "..             ...                  ...          ...   \n",
       "173  04.01.01_Boha  2022-06-19 18:38:02          NaN   \n",
       "174  04.01.01_Boha  2022-06-19 18:38:02          NaN   \n",
       "175  04.01.01_Boha  2022-06-19 18:38:02          NaN   \n",
       "176  04.01.01_Boha  2022-06-19 18:38:02          NaN   \n",
       "177  04.01.01_Boha  2022-06-19 18:38:02          NaN   \n",
       "\n",
       "                                            Media file  Total length  FPS  \\\n",
       "0    F:/mémoire/annotation vidéo/actimètrie_validit...       1625.28   25   \n",
       "1    F:/mémoire/annotation vidéo/actimètrie_validit...       1625.28   25   \n",
       "2    F:/mémoire/annotation vidéo/actimètrie_validit...       1625.28   25   \n",
       "3    F:/mémoire/annotation vidéo/actimètrie_validit...       1625.28   25   \n",
       "4    F:/mémoire/annotation vidéo/actimètrie_validit...       1625.28   25   \n",
       "..                                                 ...           ...  ...   \n",
       "173  F:/mémoire/annotation vidéo/actimètrie_validit...       1625.28   25   \n",
       "174  F:/mémoire/annotation vidéo/actimètrie_validit...       1625.28   25   \n",
       "175  F:/mémoire/annotation vidéo/actimètrie_validit...       1625.28   25   \n",
       "176  F:/mémoire/annotation vidéo/actimètrie_validit...       1625.28   25   \n",
       "177  F:/mémoire/annotation vidéo/actimètrie_validit...       1625.28   25   \n",
       "\n",
       "      Subject       Behavior  Behavioral category  Modifiers Behavior type  \\\n",
       "0    04.01.01       Start_RW                  NaN        NaN         POINT   \n",
       "1    04.01.01    RW non noté                  NaN        NaN         STATE   \n",
       "2    04.01.01  RW sédentaire                  NaN        NaN         STATE   \n",
       "3    04.01.01  RW mouv IV FA                  NaN        NaN         STATE   \n",
       "4    04.01.01  RW mouv IV GA                  NaN        NaN         STATE   \n",
       "..        ...            ...                  ...        ...           ...   \n",
       "173  04.01.01  RW mouv IV GA                  NaN        NaN         STATE   \n",
       "174  04.01.01   RW mouv V GA                  NaN        NaN         STATE   \n",
       "175  04.01.01  RW mouv IV GA                  NaN        NaN         STATE   \n",
       "176  04.01.01  LW mouv IV FA                  NaN        NaN         STATE   \n",
       "177  04.01.01  RW mouv IV FA                  NaN        NaN         STATE   \n",
       "\n",
       "     Start (s)  Stop (s)  Duration (s)  Comment start  Comment stop  \n",
       "0       10.584    10.584           NaN            NaN           NaN  \n",
       "1       16.672    22.182         5.510            NaN           NaN  \n",
       "2       22.182    28.681         6.499            NaN           NaN  \n",
       "3       28.681    32.685         4.004            NaN           NaN  \n",
       "4       32.685    46.253        13.568            NaN           NaN  \n",
       "..         ...       ...           ...            ...           ...  \n",
       "173   1573.948  1589.904        15.956            NaN           NaN  \n",
       "174   1589.904  1600.151        10.247            NaN           NaN  \n",
       "175   1600.151  1618.721        18.570            NaN           NaN  \n",
       "176   1618.721  1624.718         5.997            NaN           NaN  \n",
       "177   1618.721  1624.718         5.997            NaN           NaN  \n",
       "\n",
       "[178 rows x 16 columns]"
      ]
     },
     "execution_count": 23,
     "metadata": {},
     "output_type": "execute_result"
    }
   ],
   "source": [
    "df_boha = pd.read_excel(path_excel)\n",
    "df_boha"
   ]
  },
  {
   "cell_type": "code",
   "execution_count": 24,
   "id": "11d0c8c4-489e-4279-ad96-79382a323f3a",
   "metadata": {},
   "outputs": [],
   "source": [
    "etats_r = [\"Start_RW\", \"RW non noté\", \"RW sédentaire\", \"RW mouv\", \"RW mouv IV FA\", \"RW mouv IV GA\"]\n",
    "etats_l = [\"Start_LW\", \"LW non noté\", \"LW sédentaire\", \"LW mouv\", \"LW mouv IV FA\", \"LW mouv IV GA\"]\n",
    "etats_t = [\"Start_Thorax\", \"Thorax non noté\", \"Thorax sédentaire\", \"Thorax mouv IV FA\", \"Thorax mouv IV GA\"]"
   ]
  },
  {
   "cell_type": "code",
   "execution_count": 25,
   "id": "77c42e26-3371-4d87-8d04-66243e307f55",
   "metadata": {},
   "outputs": [
    {
     "name": "stdout",
     "output_type": "stream",
     "text": [
      "<class 'pandas.core.frame.DataFrame'>\n",
      "RangeIndex: 178 entries, 0 to 177\n",
      "Data columns (total 16 columns):\n",
      " #   Column               Non-Null Count  Dtype  \n",
      "---  ------               --------------  -----  \n",
      " 0   Observation id       178 non-null    object \n",
      " 1   Observation date     178 non-null    object \n",
      " 2   Description          0 non-null      float64\n",
      " 3   Media file           178 non-null    object \n",
      " 4   Total length         178 non-null    float64\n",
      " 5   FPS                  178 non-null    int64  \n",
      " 6   Subject              178 non-null    object \n",
      " 7   Behavior             178 non-null    object \n",
      " 8   Behavioral category  0 non-null      float64\n",
      " 9   Modifiers            0 non-null      float64\n",
      " 10  Behavior type        178 non-null    object \n",
      " 11  Start (s)            178 non-null    float64\n",
      " 12  Stop (s)             178 non-null    float64\n",
      " 13  Duration (s)         175 non-null    float64\n",
      " 14  Comment start        0 non-null      float64\n",
      " 15  Comment stop         0 non-null      float64\n",
      "dtypes: float64(9), int64(1), object(6)\n",
      "memory usage: 22.4+ KB\n"
     ]
    }
   ],
   "source": [
    "df_boha.info()"
   ]
  },
  {
   "cell_type": "code",
   "execution_count": 26,
   "id": "0e3fb0d1-e2d5-4cbd-9677-9f1836748de6",
   "metadata": {},
   "outputs": [
    {
     "data": {
      "text/plain": [
       "3196.087999999999"
      ]
     },
     "execution_count": 26,
     "metadata": {},
     "output_type": "execute_result"
    }
   ],
   "source": [
    "#df_boha = df_boha[df_boha[\"Behavior\"].str.contains(\"mouv\")]\n",
    "sum(df_boha[\"Stop (s)\"] - df_boha[\"Start (s)\"])"
   ]
  },
  {
   "cell_type": "code",
   "execution_count": 27,
   "id": "8c805b93-6c1d-48f9-96be-ed95d48dc2f1",
   "metadata": {},
   "outputs": [
    {
     "data": {
      "text/plain": [
       "1596.0370000000003"
      ]
     },
     "execution_count": 27,
     "metadata": {},
     "output_type": "execute_result"
    }
   ],
   "source": [
    "df_boha_rw_mouv = df_boha[df_boha[\"Behavior\"].str.contains(etats_r[3])]\n",
    "sum(df_boha_rw_mouv[\"Stop (s)\"] - df_boha_rw_mouv[\"Start (s)\"])"
   ]
  },
  {
   "cell_type": "code",
   "execution_count": 28,
   "id": "aff7a41a-a564-42a6-8058-e8973c1aef71",
   "metadata": {},
   "outputs": [],
   "source": [
    "df_boha_lw_mouv = df_boha[df_boha[\"Behavior\"].str.contains(etats_l[3])]\n",
    "df_boha_lw_mouv = df_boha_lw_mouv[[\"Behavior\", \"Start (s)\", \"Stop (s)\"]]"
   ]
  },
  {
   "cell_type": "code",
   "execution_count": 29,
   "id": "7dfc4ed5-9a4f-428a-b6d2-cf5364093969",
   "metadata": {},
   "outputs": [
    {
     "data": {
      "text/plain": [
       "1554.8550000000002"
      ]
     },
     "execution_count": 29,
     "metadata": {},
     "output_type": "execute_result"
    }
   ],
   "source": [
    "sum(df_boha_lw_mouv[\"Stop (s)\"] - df_boha_lw_mouv[\"Start (s)\"])"
   ]
  },
  {
   "cell_type": "code",
   "execution_count": 30,
   "id": "f3d4a9dc-20c0-40e2-a83c-8aa667b9166b",
   "metadata": {},
   "outputs": [],
   "source": [
    "threshold = 15"
   ]
  },
  {
   "cell_type": "code",
   "execution_count": 31,
   "id": "2372451a-f463-4593-a3a1-6adb2590b1e8",
   "metadata": {},
   "outputs": [
    {
     "name": "stdout",
     "output_type": "stream",
     "text": [
      "198\n"
     ]
    }
   ],
   "source": [
    "tps_biman = 0\n",
    "\n",
    "for i in range(len(acs_l)):\n",
    "    if i <= len(acs_r):\n",
    "        if acs_l[i] > threshold and acs_r[i] > threshold :\n",
    "            tps_biman += 1\n",
    "print(tps_biman)"
   ]
  },
  {
   "cell_type": "markdown",
   "id": "5a037602-f149-4eeb-bfc6-500b75f8663e",
   "metadata": {},
   "source": [
    "# Etats"
   ]
  },
  {
   "cell_type": "code",
   "execution_count": 32,
   "id": "06c0217c-7547-40a5-bf32-752c3737f307",
   "metadata": {},
   "outputs": [
    {
     "data": {
      "text/html": [
       "<div>\n",
       "<style scoped>\n",
       "    .dataframe tbody tr th:only-of-type {\n",
       "        vertical-align: middle;\n",
       "    }\n",
       "\n",
       "    .dataframe tbody tr th {\n",
       "        vertical-align: top;\n",
       "    }\n",
       "\n",
       "    .dataframe thead th {\n",
       "        text-align: right;\n",
       "    }\n",
       "</style>\n",
       "<table border=\"1\" class=\"dataframe\">\n",
       "  <thead>\n",
       "    <tr style=\"text-align: right;\">\n",
       "      <th></th>\n",
       "      <th>accel_x</th>\n",
       "      <th>accel_y</th>\n",
       "      <th>accel_z</th>\n",
       "      <th>timestamp</th>\n",
       "    </tr>\n",
       "  </thead>\n",
       "  <tbody>\n",
       "    <tr>\n",
       "      <th>0</th>\n",
       "      <td>0.000071</td>\n",
       "      <td>0.000547</td>\n",
       "      <td>0.003138</td>\n",
       "      <td>0.000000</td>\n",
       "    </tr>\n",
       "    <tr>\n",
       "      <th>1</th>\n",
       "      <td>0.000066</td>\n",
       "      <td>0.000582</td>\n",
       "      <td>0.003357</td>\n",
       "      <td>0.007812</td>\n",
       "    </tr>\n",
       "    <tr>\n",
       "      <th>2</th>\n",
       "      <td>0.000040</td>\n",
       "      <td>0.000700</td>\n",
       "      <td>0.004085</td>\n",
       "      <td>0.015625</td>\n",
       "    </tr>\n",
       "    <tr>\n",
       "      <th>3</th>\n",
       "      <td>0.000045</td>\n",
       "      <td>0.000916</td>\n",
       "      <td>0.005327</td>\n",
       "      <td>0.023438</td>\n",
       "    </tr>\n",
       "    <tr>\n",
       "      <th>4</th>\n",
       "      <td>0.000069</td>\n",
       "      <td>0.001216</td>\n",
       "      <td>0.007022</td>\n",
       "      <td>0.031250</td>\n",
       "    </tr>\n",
       "    <tr>\n",
       "      <th>...</th>\n",
       "      <td>...</td>\n",
       "      <td>...</td>\n",
       "      <td>...</td>\n",
       "      <td>...</td>\n",
       "    </tr>\n",
       "    <tr>\n",
       "      <th>32033</th>\n",
       "      <td>-0.003788</td>\n",
       "      <td>0.003766</td>\n",
       "      <td>0.018410</td>\n",
       "      <td>250.257812</td>\n",
       "    </tr>\n",
       "    <tr>\n",
       "      <th>32034</th>\n",
       "      <td>-0.003862</td>\n",
       "      <td>0.003660</td>\n",
       "      <td>0.018135</td>\n",
       "      <td>250.265625</td>\n",
       "    </tr>\n",
       "    <tr>\n",
       "      <th>32035</th>\n",
       "      <td>-0.003947</td>\n",
       "      <td>0.003558</td>\n",
       "      <td>0.017865</td>\n",
       "      <td>250.273438</td>\n",
       "    </tr>\n",
       "    <tr>\n",
       "      <th>32036</th>\n",
       "      <td>-0.004029</td>\n",
       "      <td>0.003442</td>\n",
       "      <td>0.017569</td>\n",
       "      <td>250.281250</td>\n",
       "    </tr>\n",
       "    <tr>\n",
       "      <th>32037</th>\n",
       "      <td>-0.004104</td>\n",
       "      <td>0.003329</td>\n",
       "      <td>0.017256</td>\n",
       "      <td>250.289062</td>\n",
       "    </tr>\n",
       "  </tbody>\n",
       "</table>\n",
       "<p>32038 rows × 4 columns</p>\n",
       "</div>"
      ],
      "text/plain": [
       "        accel_x   accel_y   accel_z   timestamp\n",
       "0      0.000071  0.000547  0.003138    0.000000\n",
       "1      0.000066  0.000582  0.003357    0.007812\n",
       "2      0.000040  0.000700  0.004085    0.015625\n",
       "3      0.000045  0.000916  0.005327    0.023438\n",
       "4      0.000069  0.001216  0.007022    0.031250\n",
       "...         ...       ...       ...         ...\n",
       "32033 -0.003788  0.003766  0.018410  250.257812\n",
       "32034 -0.003862  0.003660  0.018135  250.265625\n",
       "32035 -0.003947  0.003558  0.017865  250.273438\n",
       "32036 -0.004029  0.003442  0.017569  250.281250\n",
       "32037 -0.004104  0.003329  0.017256  250.289062\n",
       "\n",
       "[32038 rows x 4 columns]"
      ]
     },
     "execution_count": 32,
     "metadata": {},
     "output_type": "execute_result"
    }
   ],
   "source": [
    "df_filtrd_t"
   ]
  },
  {
   "cell_type": "code",
   "execution_count": 55,
   "id": "0df9a34d-8e91-45f5-ba9b-02fc213fe8cf",
   "metadata": {},
   "outputs": [
    {
     "data": {
      "text/plain": [
       "[<matplotlib.lines.Line2D at 0x7f49e2059400>]"
      ]
     },
     "execution_count": 55,
     "metadata": {},
     "output_type": "execute_result"
    },
    {
     "data": {
      "image/png": "[encoded data removed]",
      "text/plain": [
       "<Figure size 640x480 with 6 Axes>"
      ]
     },
     "metadata": {},
     "output_type": "display_data"
    }
   ],
   "source": [
    "df_filtrd_t_range = df_filtrd_t[(df_filtrd_t[\"timestamp\"]>3) & (df_filtrd_t[\"timestamp\"]<138)]\n",
    "\n",
    "df_t = pd.read_json(path_json_t)\n",
    "\n",
    "filtd_tax = signal.sosfilt(sos, df_t[\"accel_x\"])\n",
    "filtd_tay = signal.sosfilt(sos, df_t[\"accel_y\"])\n",
    "filtd_taz = signal.sosfilt(sos, df_t[\"accel_z\"])\n",
    "filtd_tgx = signal.sosfilt(sos, df_t[\"gyro_x\"])\n",
    "filtd_tgy = signal.sosfilt(sos, df_t[\"gyro_y\"])\n",
    "filtd_tgz = signal.sosfilt(sos, df_t[\"gyro_z\"])\n",
    "\n",
    "df_filtrd_t = pd.DataFrame(list(zip(filtd_tax, filtd_tay, filtd_taz, filtd_tgx, filtd_tgy, filtd_tgz, df_r[\"timestamp\"] )), columns =['accel_x', 'accel_y', 'accel_z', 'gyro_x', 'gyro_y', 'gyro_z', \"timestamp\" ])\n",
    "\n",
    "plt.subplot(3,2,1)\n",
    "plt.plot(df_filtrd_t[\"accel_x\"])\n",
    "plt.subplot(3,2,2)\n",
    "plt.plot(df_filtrd_t[\"gyro_x\"])\n",
    "plt.subplot(3,2,3)\n",
    "plt.plot(df_filtrd_t[\"accel_y\"])\n",
    "plt.subplot(3,2,4)\n",
    "plt.plot(df_filtrd_t[\"gyro_y\"])\n",
    "plt.subplot(3,2,5)\n",
    "plt.plot(df_filtrd_t[\"accel_z\"])\n",
    "plt.subplot(3,2,6)\n",
    "plt.plot(df_filtrd_t[\"gyro_z\"])"
   ]
  },
  {
   "cell_type": "markdown",
   "id": "10b7e33e-1fb8-4a24-bd50-319dfb1bbe61",
   "metadata": {},
   "source": [
    "## AC"
   ]
  },
  {
   "cell_type": "code",
   "execution_count": 52,
   "id": "b3b76125-a821-488b-9ca8-f33008c98933",
   "metadata": {},
   "outputs": [],
   "source": [
    "acs_t = np.zeros(int(len(df_filtrd_t)/frequence))\n",
    "time_t = np.linspace(0, len(acs_t), len(acs_t))"
   ]
  },
  {
   "cell_type": "code",
   "execution_count": 53,
   "id": "5c436831-4f83-4a2f-b28c-4c7a87511333",
   "metadata": {},
   "outputs": [
    {
     "name": "stdout",
     "output_type": "stream",
     "text": [
      "23.248199450451445\n"
     ]
    }
   ],
   "source": [
    "for i in range(acs_t.shape[0]):\n",
    "    t = np.abs(df_filtrd_t[(df_filtrd_t[\"timestamp\"] > i) & (df_filtrd_t[\"timestamp\"] < i+1)].mean())/COEFF\n",
    "    acs_t[i] = np.sqrt(np.square(t[[\"accel_x\", \"accel_y\", \"accel_z\"]]).sum(axis=0))\n",
    "\n",
    "#print(acs_t)\n",
    "print(acs_t.mean())"
   ]
  },
  {
   "cell_type": "code",
   "execution_count": 54,
   "id": "a9e29c61-ce11-4e39-b54b-f546c7ecac93",
   "metadata": {},
   "outputs": [
    {
     "data": {
      "text/plain": [
       "[<matplotlib.lines.Line2D at 0x7f49e2f647c0>]"
      ]
     },
     "execution_count": 54,
     "metadata": {},
     "output_type": "execute_result"
    },
    {
     "data": {
      "image/png": "[encoded data removed]",
      "text/plain": [
       "<Figure size 640x480 with 1 Axes>"
      ]
     },
     "metadata": {},
     "output_type": "display_data"
    }
   ],
   "source": [
    "plt.plot(time_r, acs_r)"
   ]
  },
  {
   "cell_type": "code",
   "execution_count": null,
   "id": "2926fc9c-71f8-4df6-8300-048053160495",
   "metadata": {},
   "outputs": [],
   "source": [
    "### Assise entre 83 et 138"
   ]
  },
  {
   "cell_type": "code",
   "execution_count": 2,
   "id": "30d4080f-2dd1-4a51-bb0d-5cfb1829b615",
   "metadata": {},
   "outputs": [
    {
     "data": {
      "image/png": "[encoded data removed]",
      "text/plain": [
       "<Figure size 640x480 with 1 Axes>"
      ]
     },
     "metadata": {},
     "output_type": "display_data"
    }
   ],
   "source": [
    "import numpy as np\n",
    "from matplotlib import pyplot as plt\n",
    "from matplotlib import animation\n",
    "\n",
    "# First set up the figure, the axis, and the plot element we want to animate\n",
    "fig = plt.figure()\n",
    "ax = plt.axes(xlim=(0, 250), ylim=(0, 350))\n",
    "line, = ax.plot([], [], lw=2)\n",
    "\n",
    "# initialization function: plot the background of each frame\n",
    "def init():\n",
    "    line.set_data([], [])\n",
    "    return line,\n",
    "\n",
    "# animation function.  This is called sequentially\n",
    "def animate(i):\n",
    "    x = time_r\n",
    "    y = acs_r\n",
    "    line.set_data(x, y)\n",
    "    return line,\n",
    "\n",
    "# call the animator.  blit=True means only re-draw the parts that have changed.\n",
    "anim = animation.FuncAnimation(fig, animate, init_func=init,\n",
    "           frames=200, interval=20, blit=True)\n",
    "\n",
    "plt.show()"
   ]
  },
  {
   "cell_type": "code",
   "execution_count": null,
   "id": "03ca1515-ac16-4a7d-90a2-2c356cc1eb1a",
   "metadata": {},
   "outputs": [],
   "source": []
  }
 ],
 "metadata": {
  "kernelspec": {
   "display_name": "Python 3 (ipykernel)",
   "language": "python",
   "name": "python3"
  },
  "language_info": {
   "codemirror_mode": {
    "name": "ipython",
    "version": 3
   },
   "file_extension": ".py",
   "mimetype": "text/x-python",
   "name": "python",
   "nbconvert_exporter": "python",
   "pygments_lexer": "ipython3",
   "version": "3.9.12"
  }
 },
 "nbformat": 4,
 "nbformat_minor": 5
}
